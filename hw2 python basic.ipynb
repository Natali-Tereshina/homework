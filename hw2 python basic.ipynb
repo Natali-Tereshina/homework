{
 "cells": [
  {
   "cell_type": "code",
   "execution_count": 11,
   "metadata": {},
   "outputs": [
    {
     "name": "stdout",
     "output_type": "stream",
     "text": [
      "Фраза 2 длиннее фразы 1\n"
     ]
    }
   ],
   "source": [
    "\"\"\"\n",
    "Задание 1\n",
    "Даны 2 переменных, в которых хранятся строки произвольной длины: phrase_1 и phrase_2.\n",
    "Напишите код, который проверяет какая из этих строк длиннее.\n",
    "\"\"\"\n",
    "phrase_1 = 'fjhhkhfkh'\n",
    "phrase_2 = 'h;jjjkjljhj'\n",
    "if len (phrase_1) > len (phrase_2):\n",
    "    print ('Фраза 1 длиннее фразы 2')\n",
    "elif len (phrase_1) < len (phrase_2):\n",
    "    print ('Фраза 2 длиннее фразы 1')\n",
    "elif len (phrase_1) == len (phrase_2):\n",
    "    print ('Фразы равной длины')"
   ]
  },
  {
   "cell_type": "code",
   "execution_count": 14,
   "metadata": {},
   "outputs": [
    {
     "name": "stdout",
     "output_type": "stream",
     "text": [
      "Обычный год\n"
     ]
    }
   ],
   "source": [
    "\"\"\"\n",
    "Задание 2\n",
    "Дана переменная, в которой хранится четырехзначное число (год). Необходимо написать программу, которая выведет, \n",
    "является ли данный год високосным или обычным.\n",
    "\"\"\"\n",
    "year = 2006\n",
    "if year % 4 == 0:\n",
    "    print ('Высокосный год')\n",
    "else:\n",
    "    print ('Обычный год')"
   ]
  },
  {
   "cell_type": "code",
   "execution_count": 49,
   "metadata": {},
   "outputs": [
    {
     "name": "stdout",
     "output_type": "stream",
     "text": [
      "Введите день рождения: 27\n",
      "Введите месяц рождения: февраль\n",
      "рыбы\n",
      "Конец\n"
     ]
    }
   ],
   "source": [
    "\"\"\"\n",
    "Задание 3\n",
    "Необходимо написать программу, которая будет запрашивать у пользователя месяц и дату рождения и выводить соответствующий знак \n",
    "зодиака.\n",
    "\"\"\"\n",
    "\n",
    "day_input = int (input('Введите день рождения: '))\n",
    "month_input = input('Введите месяц рождения: ')\n",
    "# овен 21.03-19.04\n",
    "if day_input >= 21 and month_input == 'март' or day_input <= 19 and month_input == 'апрель':\n",
    "        print ('овен')\n",
    "# телец 20.04-20.05\n",
    "elif day_input >= 20 and month_input == 'апрель' or day_input <= 20 and month_input == 'май':\n",
    "        print ('телец')\n",
    "# близнецы 21.05-21.06\n",
    "elif day_input >= 21 and month_input == 'май' or day_input <= 21 and month_input == 'июнь':\n",
    "        print ('близнецы')\n",
    "# рак 22.06-22.07\n",
    "elif day_input >= 22 and month_input == 'июнь' or day_input <= 22 and month_input == 'июль':\n",
    "        print ('рак')\n",
    "# лев 23.07-22.08\n",
    "elif day_input >= 23 and month_input == 'июль' or day_input <= 22 and month_input == 'август':\n",
    "        print ('лев')\n",
    "# дева 23.08-22.09\n",
    "elif day_input >= 23 and month_input == 'август' or day_input <= 22 and month_input == 'сентябрь':\n",
    "        print ('дева')\n",
    "# весы 23.09-23.10\n",
    "elif day_input >= 23 and month_input == 'сентябрь' or day_input <= 23 and month_input == 'октябрь':\n",
    "        print ('весы')\n",
    "# скорпион 24.10-22.11\n",
    "elif day_input >= 24 and month_input == 'октябрь' or day_input <= 22 and month_input == 'ноябрь':\n",
    "        print ('скорпион')\n",
    "# стрелец 23.11-21.12\n",
    "elif day_input >= 23 and month_input == 'ноябрь' or day_input <= 21 and month_input == 'декабрь':\n",
    "        print ('стрелец')\n",
    "# козерог 22.12-20.01\n",
    "elif day_input >= 22 and month_input == 'декабрь' or day_input <= 20 and month_input == 'январь':\n",
    "        print ('козерог')\n",
    "#водолей 21.01-18.02\n",
    "elif day_input >= 21 and month_input == 'январь' or day_input <= 18 and month_input == 'февраль':\n",
    "        print ('водолей')\n",
    "#рыбы 19.02-20.03\n",
    "elif day_input >= 19 and month_input == 'февраль' or day_input <= 20 and month_input == 'март':\n",
    "        print ('рыбы')\n",
    "print ('Конец')\n"
   ]
  },
  {
   "cell_type": "code",
   "execution_count": 47,
   "metadata": {},
   "outputs": [
    {
     "name": "stdout",
     "output_type": "stream",
     "text": [
      "Упаковка для лыж\n"
     ]
    }
   ],
   "source": [
    "\"\"\"\n",
    "Задание 4\n",
    "Вам нужно написать программу для подбора упаковок по размерам товара. Размеры хранятся в переменных (в сантиметрах):\n",
    "width = 10\n",
    "length = 205\n",
    "height = 5\n",
    "Используйте следующие правила:\n",
    "-если каждое из трех измерений менее 15 сантиметров, то выведите на экран \"Коробка №1\";\n",
    "-если хотя бы одно из измерений больше 15 сантиметров, но менее 50 сантиметров, то выводите \"Коробка №2\";\n",
    "-если длина товара больше 2 метров, то выводите \"Упаковка для лыж\";\n",
    "-во всех остальных случаях выводите \"Стандартная коробка №3\".\n",
    "\"\"\"\n",
    "width = 10\n",
    "length = 205\n",
    "height = 5\n",
    "if width < 15 and length < 15 and height < 15:\n",
    "    print ('Коробка №1')\n",
    "elif 15 < width < 50 and 15 < length < 50 and 15 < height < 50:\n",
    "    print ('Коробка №2')\n",
    "elif length > 200:\n",
    "    print ('Упаковка для лыж')\n",
    "else:\n",
    "    print ('Стандартная коробка №3')\n",
    "\n"
   ]
  },
  {
   "cell_type": "code",
   "execution_count": 73,
   "metadata": {},
   "outputs": [
    {
     "name": "stdout",
     "output_type": "stream",
     "text": [
      "Счастливый билет\n"
     ]
    }
   ],
   "source": [
    "\"\"\"\n",
    "Задание 5 (необязательное)\n",
    "Дана переменная, в которой хранится шестизначное число (номер проездного билета). Напишите программу, которая будет определять, \n",
    "является ли данный билет \"счастливым\". Билет считается счастливым, если сумма первых трех цифр совпадает с суммой последних \n",
    "трех цифр номера.\n",
    "\"\"\"\n",
    "x = 823328\n",
    "x1 = x // 10**5\n",
    "x2 = x % 10**5 //10**4\n",
    "x3 = x % 10**4 // 10**3\n",
    "x4 = x % 10**3 // 10**2\n",
    "x5 = x % 10**2 // 10\n",
    "x6 = x % 10\n",
    "if x1 + x2 + x3 == x4 + x5 + x6:\n",
    "    print ('Счастливый билет')\n",
    "else:\n",
    "    print ('Несчастливый билет')\n"
   ]
  },
  {
   "cell_type": "code",
   "execution_count": null,
   "metadata": {},
   "outputs": [],
   "source": [
    "\"\"\"\n",
    "\n",
    "Задание 6 (необязательное)\n",
    "Напишите программу, которая сможет вычислять площади трех фигур (круг, треугольник и прямоугольник). Тип фигуры запрашиваем \n",
    "через пользовательский ввод, после чего делаем запрос характеристик фигуры:\n",
    "\n",
    "    если пользователь выбрал круг, запрашиваем его радиус,\n",
    "    если треугольник – длины трех его сторон;\n",
    "    если прямоугольник – длины двух его сторон.\n",
    "\"\"\"\n",
    "figure = input('Введите тип фигуры: ')\n",
    "if figure =='круг':\n",
    "    print(radius = int (input('Введите радиус: ')))\n",
    "s = pi * radius ** 2\n",
    "print('Площадь круга: ', s)"
   ]
  }
 ],
 "metadata": {
  "kernelspec": {
   "display_name": "Python 3",
   "language": "python",
   "name": "python3"
  }
 },
 "nbformat": 4,
 "nbformat_minor": 4
}
