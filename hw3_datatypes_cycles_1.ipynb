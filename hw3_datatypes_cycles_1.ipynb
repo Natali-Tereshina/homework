{
 "cells": [
  {
   "cell_type": "code",
   "execution_count": 15,
   "metadata": {},
   "outputs": [
    {
     "name": "stdout",
     "output_type": "stream",
     "text": [
      "k o\n"
     ]
    }
   ],
   "source": [
    "\n",
    "# Задание 1\n",
    "# Дана переменная, в которой хранится слово из латинских букв. Напишите код, который выводит на экран:\n",
    "#     среднюю букву, если число букв в слове нечетное;\n",
    "#     две средних буквы, если число букв четное.\n",
    "\n",
    "x = 'anakonda'\n",
    "y = len(x)\n",
    "if y % 2 == 0:\n",
    "    print(x[y // 2-1], x[y // 2])\n",
    "else:\n",
    "    print(x[y // 2])"
   ]
  },
  {
   "cell_type": "code",
   "execution_count": 2,
   "metadata": {},
   "outputs": [
    {
     "name": "stdout",
     "output_type": "stream",
     "text": [
      "Введите число 7\n",
      "Введите число 9\n",
      "Введите число 0\n",
      "Результат  16\n"
     ]
    }
   ],
   "source": [
    "\n",
    "# Задание 2\n",
    "# Напишите программу, которая последовательно запрашивает у пользователя числа (по одному за раз) и после первого нуля выводит \n",
    "# сумму всех ранее введенных чисел.\n",
    "\n",
    "sum = 0 \n",
    "while True:\n",
    "    x = int(input('Введите число '))\n",
    "    if x != 0:\n",
    "        sum = x + sum\n",
    "        continue\n",
    "    else:\n",
    "        print ('Результат ', sum)\n",
    "    break\n",
    " "
   ]
  },
  {
   "cell_type": "code",
   "execution_count": 16,
   "metadata": {},
   "outputs": [
    {
     "name": "stdout",
     "output_type": "stream",
     "text": [
      "Внимание, кто-то может остаться без пары!\n"
     ]
    }
   ],
   "source": [
    "# Задание 3\n",
    "# Мы делаем MVP dating-сервиса, и у нас есть список парней и девушек.\n",
    "# Выдвигаем гипотезу: лучшие рекомендации мы получим, если просто отсортируем имена по алфавиту и познакомим людей с \n",
    "# одинаковыми индексами после сортировки! Но мы не будем никого знакомить, если кто-то может остаться без пары:\n",
    "\n",
    "boys = ['Peter', 'Alex', 'John', 'Arthur', 'Richard', 'Sasha']\n",
    "girls = ['Kate', 'Liza', 'Kira', 'Emma', 'Trisha']\n",
    "boys.sort()\n",
    "girls.sort()\n",
    "if len(boys) == len (girls):\n",
    "    print('Идеальные пары:')\n",
    "    for b, g in zip(boys, girls):\n",
    "        print(b, ' и ',g)\n",
    "else:\n",
    "    print('Внимание, кто-то может остаться без пары!')  "
   ]
  },
  {
   "cell_type": "code",
   "execution_count": 2,
   "metadata": {},
   "outputs": [
    {
     "name": "stdout",
     "output_type": "stream",
     "text": [
      "Thailand  -  23.9 C\n",
      "Germany  -  13.8 C\n",
      "Russia  -  3.7 C\n",
      "Poland  -  12.0 C\n",
      "Thailand - 23.9 C\n",
      "Germany - 13.8 C\n",
      "Russia - 3.7 C\n",
      "Poland - 12.0 C\n"
     ]
    }
   ],
   "source": [
    "\n",
    "# Задание 4\n",
    "\n",
    "# У нас есть список, содержащий информацию о среднедневной температуре в Фаренгейтах за произвольный период по странам \n",
    "# (структура данных в примере). Необходимо написать код, который рассчитает среднюю температуру за период в Цельсиях(!) \n",
    "# для каждой страны.\n",
    "\n",
    "# Пример работы программы:\n",
    "\n",
    "# countries_temperature = [\n",
    "#     ['Thailand', [75.2, 77, 78.8, 73.4, 68, 75.2, 77]],\n",
    "#     ['Germany', [57.2, 55.4, 59, 59, 53.6]],\n",
    "#     ['Russia', [35.6, 37.4, 39.2, 41, 42.8, 39.2, 35.6]],\n",
    "#     ['Poland', [50, 50, 53.6, 57.2, 55.4, 55.4]]\n",
    "# ]\n",
    "\n",
    "# Результат:\n",
    "\n",
    "# Средняя температура в странах:\n",
    "# Thailand  -  23.9 С\n",
    "# Germany  -  13.8 С\n",
    "# Russia  -  3.7 С\n",
    "# Poland  -  12.0 С\n",
    "\n",
    "countries_temperature = [\n",
    "     ['Thailand', [75.2, 77, 78.8, 73.4, 68, 75.2, 77]],\n",
    "     ['Germany', [57.2, 55.4, 59, 59, 53.6]],\n",
    "     ['Russia', [35.6, 37.4, 39.2, 41, 42.8, 39.2, 35.6]],\n",
    "     ['Poland', [50, 50, 53.6, 57.2, 55.4, 55.4]]\n",
    " ]\n",
    "for temp in countries_temperature:\n",
    "    average = round ((5/9)*(sum(temp[1]) / len(temp[1])-32), 1) \n",
    "    print(temp[0],' - ', average, 'C') # либо print(f'{temp[0]} - {average} C')\n"
   ]
  },
  {
   "cell_type": "code",
   "execution_count": 43,
   "metadata": {},
   "outputs": [
    {
     "name": "stdout",
     "output_type": "stream",
     "text": [
      "23.25\n"
     ]
    }
   ],
   "source": [
    "\n",
    "# Задание 5 (необязательное)\n",
    "\n",
    "# # Дан поток логов по количеству просмотренных страниц для каждого пользователя. Вам необходимо написать алгоритм, который \n",
    "# считает среднее значение просмотров на пользователя. Т. е. надо посчитать отношение суммы всех просмотров к количеству \n",
    "# уникальных пользователей.\n",
    "\n",
    "# Примеры работы программы:\n",
    "\n",
    "# stream = [\n",
    "#     '2018-01-01,user1,3',\n",
    "#     '2018-01-07,user1,4',\n",
    "#     '2018-03-29,user1,1',\n",
    "#     '2018-04-04,user1,13',\n",
    "#     '2018-01-05,user2,7',\n",
    "#     '2018-06-14,user3,4',\n",
    "#     '2018-07-02,user3,10',\n",
    "#     '2018-03-21,user4,19',\n",
    "#     '2018-03-22,user4,4',\n",
    "#     '2018-04-22,user4,8',\n",
    "#     '2018-05-03,user4,9',\n",
    "#     '2018-05-11,user4,11',\n",
    "# ]\n",
    "\n",
    "# Результат:\n",
    "# Среднее количество просмотров на уникального пользователя: 23.25\n",
    "\n",
    "# stream = [\n",
    "#     '2018-01-01,user100,150',\n",
    "#     '2018-01-07,user99,205',\n",
    "#     '2018-03-29,user1001,81'\n",
    "# ]\n",
    "\n",
    "# Результат:\n",
    "# Среднее количество просмотров на уникального пользователя: 145.33\n",
    "\n",
    "stream = [\n",
    "     '2018-01-01,user1,3',\n",
    "     '2018-01-07,user1,4',\n",
    "     '2018-03-29,user1,1',\n",
    "     '2018-04-04,user1,13',\n",
    "     '2018-01-05,user2,7',\n",
    "     '2018-06-14,user3,4',\n",
    "     '2018-07-02,user3,10',\n",
    "     '2018-03-21,user4,19',\n",
    "     '2018-03-22,user4,4',\n",
    "     '2018-04-22,user4,8',\n",
    "     '2018-05-03,user4,9',\n",
    "     '2018-05-11,user4,11',\n",
    " ]\n",
    "index = 0\n",
    "user_list = []\n",
    "sum = 0\n",
    "for item in stream:\n",
    "    sum = sum + int(item.split(\",\")[2])\n",
    "    user = item.split(\",\")[1]\n",
    "    if user not in user_list:\n",
    "        user_list.append(user)\n",
    "    index = len(user_list)\n",
    "print(sum/index) \n"
   ]
  },
  {
   "cell_type": "code",
   "execution_count": 45,
   "metadata": {},
   "outputs": [
    {
     "name": "stdout",
     "output_type": "stream",
     "text": [
      "Введите число: 6\n",
      "Введите число: 5\n",
      "Введите число: end\n"
     ]
    },
    {
     "ename": "ValueError",
     "evalue": "invalid literal for int() with base 10: 'end'",
     "output_type": "error",
     "traceback": [
      "\u001b[1;31m---------------------------------------------------------------------------\u001b[0m",
      "\u001b[1;31mValueError\u001b[0m                                Traceback (most recent call last)",
      "\u001b[1;32m<ipython-input-45-22f1f9257a3c>\u001b[0m in \u001b[0;36m<module>\u001b[1;34m\u001b[0m\n\u001b[0;32m     25\u001b[0m \u001b[1;33m\u001b[0m\u001b[0m\n\u001b[0;32m     26\u001b[0m \u001b[1;32mwhile\u001b[0m \u001b[1;32mTrue\u001b[0m\u001b[1;33m:\u001b[0m\u001b[1;33m\u001b[0m\u001b[1;33m\u001b[0m\u001b[0m\n\u001b[1;32m---> 27\u001b[1;33m     \u001b[0muser_input\u001b[0m \u001b[1;33m=\u001b[0m \u001b[0mint\u001b[0m\u001b[1;33m(\u001b[0m\u001b[0minput\u001b[0m\u001b[1;33m(\u001b[0m\u001b[1;34m'Введите число: '\u001b[0m\u001b[1;33m)\u001b[0m\u001b[1;33m)\u001b[0m\u001b[1;33m\u001b[0m\u001b[1;33m\u001b[0m\u001b[0m\n\u001b[0m\u001b[0;32m     28\u001b[0m     \u001b[1;32mif\u001b[0m \u001b[0muser_input\u001b[0m \u001b[1;33m==\u001b[0m \u001b[1;34m'end'\u001b[0m\u001b[1;33m:\u001b[0m\u001b[1;33m\u001b[0m\u001b[1;33m\u001b[0m\u001b[0m\n\u001b[0;32m     29\u001b[0m         \u001b[0mprint\u001b[0m\u001b[1;33m(\u001b[0m\u001b[0msum\u001b[0m\u001b[1;33m(\u001b[0m\u001b[0muser_input\u001b[0m\u001b[1;33m)\u001b[0m\u001b[1;33m)\u001b[0m\u001b[1;33m\u001b[0m\u001b[1;33m\u001b[0m\u001b[0m\n",
      "\u001b[1;31mValueError\u001b[0m: invalid literal for int() with base 10: 'end'"
     ]
    }
   ],
   "source": [
    "\n",
    "# Задание 6 (необязательное)\n",
    "\n",
    "# Необходимо у пользователя запрашивать набор чисел разделенных пробелом. В результате должны выводиться числа, которые \n",
    "# повторяются в вводе более одного раза.\n",
    "\n",
    "# Примеры работы программы:\n",
    "\n",
    "# Введите числа:\n",
    "# 4 8 0 3 4 2 0 3\n",
    "\n",
    "# Результат:\n",
    "# 0 3 4\n",
    "\n",
    "# Введите числа:\n",
    "# 1 1 2 2 3 3\n",
    "\n",
    "# Результат:\n",
    "# 1 2 3\n",
    "\n",
    "# Введите числа:\n",
    "# 1 1 1 1 1 2 2 2\n",
    "\n",
    "# Результат:\n",
    "# 1 2\n",
    "\n",
    "while True:\n",
    "    user_input = int(input('Введите число: '))\n",
    "    if user_input == 'end':\n",
    "        print(sum(user_input))\n"
   ]
  }
 ],
 "metadata": {
  "kernelspec": {
   "display_name": "Python 3",
   "language": "python",
   "name": "python3"
  },
  "language_info": {
   "codemirror_mode": {
    "name": "ipython",
    "version": 3
   },
   "file_extension": ".py",
   "mimetype": "text/x-python",
   "name": "python",
   "nbconvert_exporter": "python",
   "pygments_lexer": "ipython3",
   "version": "3.8.3"
  }
 },
 "nbformat": 4,
 "nbformat_minor": 4
}
